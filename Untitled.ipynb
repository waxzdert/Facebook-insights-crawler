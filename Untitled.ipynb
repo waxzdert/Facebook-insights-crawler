{
 "cells": [
  {
   "cell_type": "code",
   "execution_count": 1,
   "metadata": {},
   "outputs": [],
   "source": [
    "from selenium import webdriver\n",
    "import time\n",
    "\n",
    "from selenium.webdriver.common.by import By\n",
    "from selenium.webdriver.support.ui import WebDriverWait\n",
    "from selenium.webdriver.support import expected_conditions as EC\n",
    "from selenium.common.exceptions import TimeoutException\n",
    "from selenium.webdriver.common.keys import Keys"
   ]
  },
  {
   "cell_type": "code",
   "execution_count": 2,
   "metadata": {},
   "outputs": [
    {
     "name": "stdout",
     "output_type": "stream",
     "text": [
      "Opened facebook\n"
     ]
    }
   ],
   "source": [
    "chrome_path = \"chromedriver.exe\" #chromedriver.exe執行檔所存在的路徑\n",
    "web = webdriver.Chrome(chrome_path)\n",
    "web.get('https://www.facebook.com/')\n",
    "print ('Opened facebook')"
   ]
  },
  {
   "cell_type": "code",
   "execution_count": 3,
   "metadata": {},
   "outputs": [
    {
     "name": "stdout",
     "output_type": "stream",
     "text": [
      "Email Id entered...\n",
      "Password entered...\n"
     ]
    }
   ],
   "source": [
    "account = web.find_element_by_id('email')\n",
    "account.send_keys('401440127@gms.tku.edu.tw')\n",
    "print('Email Id entered...')\n",
    "password = web.find_element_by_id('pass')\n",
    "password.send_keys('dj41u4xk716')\n",
    "print ('Password entered...')"
   ]
  },
  {
   "cell_type": "code",
   "execution_count": 4,
   "metadata": {},
   "outputs": [
    {
     "name": "stdout",
     "output_type": "stream",
     "text": [
      "Login...\n"
     ]
    }
   ],
   "source": [
    "password.send_keys(Keys.ENTER)\n",
    "print ('Login...')"
   ]
  },
  {
   "cell_type": "code",
   "execution_count": 5,
   "metadata": {},
   "outputs": [],
   "source": [
    "web.get('https://www.facebook.com/處女座咖啡茶館1號店-211938082478801/insights/?referrer=page_insights_tab_button')"
   ]
  },
  {
   "cell_type": "code",
   "execution_count": null,
   "metadata": {},
   "outputs": [],
   "source": []
  },
  {
   "cell_type": "code",
   "execution_count": null,
   "metadata": {},
   "outputs": [],
   "source": []
  },
  {
   "cell_type": "code",
   "execution_count": null,
   "metadata": {},
   "outputs": [],
   "source": []
  }
 ],
 "metadata": {
  "kernelspec": {
   "display_name": "Python 3",
   "language": "python",
   "name": "python3"
  },
  "language_info": {
   "codemirror_mode": {
    "name": "ipython",
    "version": 3
   },
   "file_extension": ".py",
   "mimetype": "text/x-python",
   "name": "python",
   "nbconvert_exporter": "python",
   "pygments_lexer": "ipython3",
   "version": "3.7.3"
  }
 },
 "nbformat": 4,
 "nbformat_minor": 2
}
